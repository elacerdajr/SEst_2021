{
 "cells": [
  {
   "cell_type": "markdown",
   "id": "52aa36db",
   "metadata": {
    "ExecuteTime": {
     "end_time": "2021-10-21T04:50:23.623328Z",
     "start_time": "2021-10-21T04:50:23.620814Z"
    }
   },
   "source": [
    "# imports"
   ]
  },
  {
   "cell_type": "code",
   "execution_count": 2,
   "id": "5377bcfe",
   "metadata": {
    "ExecuteTime": {
     "end_time": "2021-10-21T06:26:49.782429Z",
     "start_time": "2021-10-21T06:26:49.473976Z"
    }
   },
   "outputs": [],
   "source": [
    "# basic libs\n",
    "import math\n",
    "import numpy as np\n",
    "\n",
    "import pandas as pd\n",
    "from matplotlib import pyplot as plt"
   ]
  },
  {
   "cell_type": "markdown",
   "id": "9e1ec408",
   "metadata": {
    "ExecuteTime": {
     "end_time": "2021-10-21T04:50:40.608816Z",
     "start_time": "2021-10-21T04:50:40.606621Z"
    }
   },
   "source": [
    "# plot settings"
   ]
  },
  {
   "cell_type": "code",
   "execution_count": 3,
   "id": "71bf3a9b",
   "metadata": {
    "ExecuteTime": {
     "end_time": "2021-10-21T06:26:50.101183Z",
     "start_time": "2021-10-21T06:26:50.091412Z"
    }
   },
   "outputs": [],
   "source": [
    "# setting for plots\n",
    "import matplotlib\n",
    "\n",
    "# output image quality\n",
    "%config InlineBackend.figure_format = 'retina'\n",
    "\n",
    "# set pyplot stype\n",
    "plt.style.use('dark_background') # see more with plt.style.available\n",
    "\n",
    "\n",
    "# defaut figsize\n",
    "matplotlib.rcParams['figure.figsize'] = [6,4]\n",
    "\n",
    "# defaut fontsize\n",
    "font = {'size':14}\n",
    "matplotlib.rc('font', **font)\n",
    "\n",
    "# color pallete\n",
    "colors = ['#2F58EB', '#773BEB', '#12B8EB', '#EB9846', '#8b8b8b', '#810f7c']"
   ]
  },
  {
   "cell_type": "code",
   "execution_count": 4,
   "id": "6a583ad0",
   "metadata": {
    "ExecuteTime": {
     "end_time": "2021-10-21T06:26:50.619927Z",
     "start_time": "2021-10-21T06:26:50.617113Z"
    }
   },
   "outputs": [],
   "source": [
    "def clean_ax(ax):\n",
    "    ax.spines[\"right\"].set_visible(False)\n",
    "    ax.spines[\"left\"].set_visible(False)\n",
    "    ax.spines[\"top\"].set_visible(False)\n",
    "    ax.set_yticks([])\n",
    "    # for minor ticks\n",
    "    ax.set_yticks([], minor=True)\n",
    "    return ax"
   ]
  },
  {
   "cell_type": "markdown",
   "id": "2bddfdab",
   "metadata": {
    "ExecuteTime": {
     "end_time": "2021-10-21T04:51:12.861776Z",
     "start_time": "2021-10-21T04:51:12.859829Z"
    }
   },
   "source": [
    "# data"
   ]
  },
  {
   "cell_type": "code",
   "execution_count": 107,
   "id": "2136a100",
   "metadata": {
    "ExecuteTime": {
     "end_time": "2021-10-21T20:42:46.484256Z",
     "start_time": "2021-10-21T20:42:46.468609Z"
    }
   },
   "outputs": [
    {
     "data": {
      "text/html": [
       "<div>\n",
       "<style scoped>\n",
       "    .dataframe tbody tr th:only-of-type {\n",
       "        vertical-align: middle;\n",
       "    }\n",
       "\n",
       "    .dataframe tbody tr th {\n",
       "        vertical-align: top;\n",
       "    }\n",
       "\n",
       "    .dataframe thead th {\n",
       "        text-align: right;\n",
       "    }\n",
       "</style>\n",
       "<table border=\"1\" class=\"dataframe\">\n",
       "  <thead>\n",
       "    <tr style=\"text-align: right;\">\n",
       "      <th></th>\n",
       "      <th>PassengerId</th>\n",
       "      <th>Survived</th>\n",
       "      <th>Pclass</th>\n",
       "      <th>Name</th>\n",
       "      <th>Sex</th>\n",
       "      <th>Age</th>\n",
       "      <th>SibSp</th>\n",
       "      <th>Parch</th>\n",
       "      <th>Ticket</th>\n",
       "      <th>Fare</th>\n",
       "      <th>Cabin</th>\n",
       "      <th>Embarked</th>\n",
       "    </tr>\n",
       "  </thead>\n",
       "  <tbody>\n",
       "    <tr>\n",
       "      <th>0</th>\n",
       "      <td>1</td>\n",
       "      <td>0</td>\n",
       "      <td>3</td>\n",
       "      <td>Braund, Mr. Owen Harris</td>\n",
       "      <td>male</td>\n",
       "      <td>22.0</td>\n",
       "      <td>1</td>\n",
       "      <td>0</td>\n",
       "      <td>A/5 21171</td>\n",
       "      <td>7.2500</td>\n",
       "      <td>NaN</td>\n",
       "      <td>S</td>\n",
       "    </tr>\n",
       "    <tr>\n",
       "      <th>1</th>\n",
       "      <td>2</td>\n",
       "      <td>1</td>\n",
       "      <td>1</td>\n",
       "      <td>Cumings, Mrs. John Bradley (Florence Briggs Th...</td>\n",
       "      <td>female</td>\n",
       "      <td>38.0</td>\n",
       "      <td>1</td>\n",
       "      <td>0</td>\n",
       "      <td>PC 17599</td>\n",
       "      <td>71.2833</td>\n",
       "      <td>C85</td>\n",
       "      <td>C</td>\n",
       "    </tr>\n",
       "    <tr>\n",
       "      <th>2</th>\n",
       "      <td>3</td>\n",
       "      <td>1</td>\n",
       "      <td>3</td>\n",
       "      <td>Heikkinen, Miss. Laina</td>\n",
       "      <td>female</td>\n",
       "      <td>26.0</td>\n",
       "      <td>0</td>\n",
       "      <td>0</td>\n",
       "      <td>STON/O2. 3101282</td>\n",
       "      <td>7.9250</td>\n",
       "      <td>NaN</td>\n",
       "      <td>S</td>\n",
       "    </tr>\n",
       "  </tbody>\n",
       "</table>\n",
       "</div>"
      ],
      "text/plain": [
       "   PassengerId  Survived  Pclass  \\\n",
       "0            1         0       3   \n",
       "1            2         1       1   \n",
       "2            3         1       3   \n",
       "\n",
       "                                                Name     Sex   Age  SibSp  \\\n",
       "0                            Braund, Mr. Owen Harris    male  22.0      1   \n",
       "1  Cumings, Mrs. John Bradley (Florence Briggs Th...  female  38.0      1   \n",
       "2                             Heikkinen, Miss. Laina  female  26.0      0   \n",
       "\n",
       "   Parch            Ticket     Fare Cabin Embarked  \n",
       "0      0         A/5 21171   7.2500   NaN        S  \n",
       "1      0          PC 17599  71.2833   C85        C  \n",
       "2      0  STON/O2. 3101282   7.9250   NaN        S  "
      ]
     },
     "execution_count": 107,
     "metadata": {},
     "output_type": "execute_result"
    }
   ],
   "source": [
    "np.random.seed(0)\n",
    "\n",
    "data = pd.read_csv(\"../Experiments/titanic-kaggle/train.csv\")\n",
    "\n",
    "data.head(3)"
   ]
  },
  {
   "cell_type": "code",
   "execution_count": 108,
   "id": "b1882985",
   "metadata": {
    "ExecuteTime": {
     "end_time": "2021-10-21T20:42:47.244919Z",
     "start_time": "2021-10-21T20:42:47.242950Z"
    }
   },
   "outputs": [],
   "source": [
    "import utils"
   ]
  },
  {
   "cell_type": "code",
   "execution_count": 109,
   "id": "af6c9ac2",
   "metadata": {
    "ExecuteTime": {
     "end_time": "2021-10-21T20:42:48.007471Z",
     "start_time": "2021-10-21T20:42:47.995962Z"
    }
   },
   "outputs": [
    {
     "data": {
      "text/html": [
       "<div>\n",
       "<style scoped>\n",
       "    .dataframe tbody tr th:only-of-type {\n",
       "        vertical-align: middle;\n",
       "    }\n",
       "\n",
       "    .dataframe tbody tr th {\n",
       "        vertical-align: top;\n",
       "    }\n",
       "\n",
       "    .dataframe thead th {\n",
       "        text-align: right;\n",
       "    }\n",
       "</style>\n",
       "<table border=\"1\" class=\"dataframe\">\n",
       "  <thead>\n",
       "    <tr style=\"text-align: right;\">\n",
       "      <th></th>\n",
       "      <th>Pclass</th>\n",
       "      <th>Age</th>\n",
       "      <th>Sex</th>\n",
       "      <th>SibSp</th>\n",
       "      <th>Survived</th>\n",
       "    </tr>\n",
       "  </thead>\n",
       "  <tbody>\n",
       "    <tr>\n",
       "      <th>0</th>\n",
       "      <td>3</td>\n",
       "      <td>22.0</td>\n",
       "      <td>0</td>\n",
       "      <td>1</td>\n",
       "      <td>0</td>\n",
       "    </tr>\n",
       "    <tr>\n",
       "      <th>1</th>\n",
       "      <td>1</td>\n",
       "      <td>38.0</td>\n",
       "      <td>1</td>\n",
       "      <td>1</td>\n",
       "      <td>1</td>\n",
       "    </tr>\n",
       "    <tr>\n",
       "      <th>2</th>\n",
       "      <td>3</td>\n",
       "      <td>26.0</td>\n",
       "      <td>1</td>\n",
       "      <td>0</td>\n",
       "      <td>1</td>\n",
       "    </tr>\n",
       "  </tbody>\n",
       "</table>\n",
       "</div>"
      ],
      "text/plain": [
       "   Pclass   Age Sex  SibSp  Survived\n",
       "0       3  22.0   0      1         0\n",
       "1       1  38.0   1      1         1\n",
       "2       3  26.0   1      0         1"
      ]
     },
     "execution_count": 109,
     "metadata": {},
     "output_type": "execute_result"
    }
   ],
   "source": [
    "utils.clean_data(data)\n",
    "\n",
    "features = [\"Pclass\",\"Age\",\"Sex\",\"SibSp\",'Survived']\n",
    "data = data[features]\n",
    "data.head(3)"
   ]
  },
  {
   "cell_type": "code",
   "execution_count": 110,
   "id": "ad32886d",
   "metadata": {
    "ExecuteTime": {
     "end_time": "2021-10-21T20:42:50.373976Z",
     "start_time": "2021-10-21T20:42:50.370587Z"
    }
   },
   "outputs": [
    {
     "data": {
      "text/plain": [
       "(891, 5)"
      ]
     },
     "execution_count": 110,
     "metadata": {},
     "output_type": "execute_result"
    }
   ],
   "source": [
    "data.shape"
   ]
  },
  {
   "cell_type": "code",
   "execution_count": 111,
   "id": "3ece4ca6",
   "metadata": {
    "ExecuteTime": {
     "end_time": "2021-10-21T20:42:51.414400Z",
     "start_time": "2021-10-21T20:42:51.412356Z"
    }
   },
   "outputs": [],
   "source": [
    "from sklearn.model_selection import train_test_split"
   ]
  },
  {
   "cell_type": "code",
   "execution_count": 112,
   "id": "5730f3a4",
   "metadata": {
    "ExecuteTime": {
     "end_time": "2021-10-21T20:42:51.926798Z",
     "start_time": "2021-10-21T20:42:51.921163Z"
    }
   },
   "outputs": [],
   "source": [
    "X = data[features].drop(columns='Survived')\n",
    "y = data.Survived\n",
    "\n",
    "X_train, X_test, y_train, y_test = train_test_split(X, y, \n",
    "                                                    test_size=0.2, \n",
    "                                                    random_state=314)"
   ]
  },
  {
   "cell_type": "code",
   "execution_count": 122,
   "id": "8a7fce3c",
   "metadata": {
    "ExecuteTime": {
     "end_time": "2021-10-21T20:48:37.298310Z",
     "start_time": "2021-10-21T20:48:37.295591Z"
    }
   },
   "outputs": [
    {
     "name": "stdout",
     "output_type": "stream",
     "text": [
      "(712,)\n",
      "(179,)\n"
     ]
    }
   ],
   "source": [
    "print(y_train.shape)\n",
    "print(y_test.shape)"
   ]
  },
  {
   "cell_type": "markdown",
   "id": "cc6c66ee",
   "metadata": {
    "ExecuteTime": {
     "end_time": "2021-10-21T06:30:43.269364Z",
     "start_time": "2021-10-21T06:30:43.267094Z"
    }
   },
   "source": [
    "# Model"
   ]
  },
  {
   "cell_type": "code",
   "execution_count": 113,
   "id": "8446b973",
   "metadata": {
    "ExecuteTime": {
     "end_time": "2021-10-21T20:42:53.512073Z",
     "start_time": "2021-10-21T20:42:53.509652Z"
    }
   },
   "outputs": [],
   "source": [
    "from sklearn import tree, model_selection"
   ]
  },
  {
   "cell_type": "code",
   "execution_count": 114,
   "id": "fb973f3a",
   "metadata": {
    "ExecuteTime": {
     "end_time": "2021-10-21T20:42:53.950206Z",
     "start_time": "2021-10-21T20:42:53.948004Z"
    }
   },
   "outputs": [],
   "source": [
    "\n",
    "decision_tree = tree.DecisionTreeClassifier(\n",
    "    random_state =1,\n",
    "    max_depth=7,\n",
    "    min_samples_split=2)\n"
   ]
  },
  {
   "cell_type": "code",
   "execution_count": 126,
   "id": "e97e75d2",
   "metadata": {
    "ExecuteTime": {
     "end_time": "2021-10-21T20:52:11.616845Z",
     "start_time": "2021-10-21T20:52:11.608760Z"
    }
   },
   "outputs": [
    {
     "name": "stdout",
     "output_type": "stream",
     "text": [
      "0.855\n"
     ]
    }
   ],
   "source": [
    "model = decision_tree.fit(X_train,y_train)\n",
    "t_hat = model.score(X_test,y_test)\n",
    "print( '%.3f' %t_hat )"
   ]
  },
  {
   "cell_type": "code",
   "execution_count": 127,
   "id": "df46520d",
   "metadata": {
    "ExecuteTime": {
     "end_time": "2021-10-21T20:42:57.643998Z",
     "start_time": "2021-10-21T20:42:57.640827Z"
    }
   },
   "outputs": [],
   "source": [
    "def bootstrap(function, X,y, B):\n",
    "    \"\"\"\n",
    "    \"\"\"\n",
    "    f_hat = []\n",
    "    \n",
    "    for i in range(B):\n",
    "        X_b = X.sample(replace=True,frac=1)\n",
    "        y_b  = y[X_b.index]\n",
    "        \n",
    "        \n",
    "        estimate = function(X_b,y_b)\n",
    "        f_hat.append(estimate)\n",
    "        \n",
    "    return np.array(sorted(f_hat))"
   ]
  },
  {
   "cell_type": "code",
   "execution_count": 128,
   "id": "f7de6cdf",
   "metadata": {
    "ExecuteTime": {
     "end_time": "2021-10-21T20:43:00.344629Z",
     "start_time": "2021-10-21T20:42:59.992152Z"
    }
   },
   "outputs": [],
   "source": [
    "B = 200\n",
    "\n",
    "t_B = bootstrap(model.score, X_test,y_test, B=B)"
   ]
  },
  {
   "cell_type": "code",
   "execution_count": 118,
   "id": "ae0560bd",
   "metadata": {
    "ExecuteTime": {
     "end_time": "2021-10-21T20:43:01.322799Z",
     "start_time": "2021-10-21T20:43:01.320327Z"
    }
   },
   "outputs": [],
   "source": [
    "# compute standard error\n",
    "se = np.std(t_B)\n",
    "\n",
    "CI_std = [t_hat-1.96*se,t_hat+1.96*se]"
   ]
  },
  {
   "cell_type": "code",
   "execution_count": 119,
   "id": "7872480f",
   "metadata": {
    "ExecuteTime": {
     "end_time": "2021-10-21T20:43:02.878360Z",
     "start_time": "2021-10-21T20:43:02.872747Z"
    }
   },
   "outputs": [],
   "source": [
    "def plot_hist(t_hat,t_B,title=''):\n",
    "\n",
    "    fig,ax = plt.subplots()\n",
    "\n",
    "    ax = clean_ax(ax)\n",
    "\n",
    "    cb = '#001d7d'\n",
    "#     cb = '#5d016e'\n",
    "\n",
    "    # plot hist t_B\n",
    "    _ = plt.hist(t_B, bins = 'auto',color=cb,rwidth=0.9)\n",
    "\n",
    "    # plotting CI\n",
    "    i = 3\n",
    "    plt.axvline(x=t_hat,color=colors[i])\n",
    "    plt.text(s=r\"$\\hat{\\theta}$\",x=t_hat,y=10,color=colors[i],weight='bold')\n",
    "\n",
    "\n",
    "    plt.title(r''+title)\n",
    "    plt.xlabel(r'$\\hat{\\theta}^*$')\n",
    "\n",
    "def plot_CI(t_hat,t_B,CI,title=''):\n",
    "\n",
    "    fig,ax = plt.subplots()\n",
    "\n",
    "    ax = clean_ax(ax)\n",
    "\n",
    "    cb = '#001d7d'\n",
    "#     cb = '#5d016e'\n",
    "\n",
    "    # plot hist t_B\n",
    "    _ = plt.hist(t_B, bins = 'auto',color=cb,rwidth=0.9)\n",
    "    plt.xlabel(r'$\\hat{\\theta}^*$')\n",
    "\n",
    "    # plotting CI\n",
    "    for li in CI:\n",
    "        plt.axvline(x=li,color='yellow',ls='--')\n",
    "        plt.text(s=\"%.3f\" %li,x=li,y=1,color='yellow',weight='bold')\n",
    "\n",
    "\n",
    "    # plotting CI\n",
    "    i = 2\n",
    "    plt.axvline(x=t_hat,color=colors[i])\n",
    "    plt.text(s=r\"$\\hat{\\theta}$\",x=t_hat,y=10,color=colors[i],weight='bold')\n",
    "\n",
    "    plt.title(r''+title)"
   ]
  },
  {
   "cell_type": "code",
   "execution_count": 120,
   "id": "d332cc2f",
   "metadata": {
    "ExecuteTime": {
     "end_time": "2021-10-21T20:43:03.614245Z",
     "start_time": "2021-10-21T20:43:03.502427Z"
    }
   },
   "outputs": [
    {
     "data": {
      "image/png": "[encoded data removed]",
      "text/plain": [
       "<Figure size 432x288 with 1 Axes>"
      ]
     },
     "metadata": {
      "image/png": {
       "height": 275,
       "width": 349
      }
     },
     "output_type": "display_data"
    }
   ],
   "source": [
    "plot_hist(t_hat,t_B,title='')"
   ]
  },
  {
   "cell_type": "code",
   "execution_count": 121,
   "id": "21f27309",
   "metadata": {
    "ExecuteTime": {
     "end_time": "2021-10-21T20:43:06.713854Z",
     "start_time": "2021-10-21T20:43:06.580734Z"
    }
   },
   "outputs": [
    {
     "data": {
      "image/png": "[encoded data removed]",
      "text/plain": [
       "<Figure size 432x288 with 1 Axes>"
      ]
     },
     "metadata": {
      "image/png": {
       "height": 294,
       "width": 352
      }
     },
     "output_type": "display_data"
    }
   ],
   "source": [
    "plot_CI(t_hat,t_B,CI_std,title='Standard Error')"
   ]
  },
  {
   "cell_type": "code",
   "execution_count": 129,
   "id": "b795f2e7",
   "metadata": {
    "ExecuteTime": {
     "end_time": "2021-10-21T06:50:52.210565Z",
     "start_time": "2021-10-21T06:50:52.207344Z"
    }
   },
   "outputs": [],
   "source": [
    "# compute percentile\n",
    "\n",
    "CI_per = [np.percentile(t_B,2.5), np.percentile(t_B,97.5)]\n",
    "\n"
   ]
  },
  {
   "cell_type": "code",
   "execution_count": 130,
   "id": "a6c93542",
   "metadata": {
    "ExecuteTime": {
     "end_time": "2021-10-21T06:53:09.221823Z",
     "start_time": "2021-10-21T06:53:09.008809Z"
    }
   },
   "outputs": [
    {
     "data": {
      "image/png": "[encoded data removed]",
      "text/plain": [
       "<Figure size 432x288 with 1 Axes>"
      ]
     },
     "metadata": {
      "image/png": {
       "height": 294,
       "width": 350
      }
     },
     "output_type": "display_data"
    }
   ],
   "source": [
    "plot_CI(t_hat,t_B,CI_per,title='Percentile')"
   ]
  },
  {
   "cell_type": "code",
   "execution_count": 131,
   "id": "c1f3b396",
   "metadata": {
    "ExecuteTime": {
     "end_time": "2021-10-21T06:51:00.066562Z",
     "start_time": "2021-10-21T06:51:00.063991Z"
    }
   },
   "outputs": [],
   "source": [
    "from scipy.stats import norm"
   ]
  },
  {
   "cell_type": "code",
   "execution_count": 132,
   "id": "ec42ff87",
   "metadata": {
    "ExecuteTime": {
     "end_time": "2021-10-21T06:51:00.765469Z",
     "start_time": "2021-10-21T06:51:00.762473Z"
    }
   },
   "outputs": [
    {
     "data": {
      "text/plain": [
       "0.8547486033519553"
      ]
     },
     "execution_count": 132,
     "metadata": {},
     "output_type": "execute_result"
    }
   ],
   "source": [
    "t_hat"
   ]
  },
  {
   "cell_type": "code",
   "execution_count": 133,
   "id": "cab48493",
   "metadata": {
    "ExecuteTime": {
     "end_time": "2021-10-21T06:51:02.350824Z",
     "start_time": "2021-10-21T06:51:02.345266Z"
    }
   },
   "outputs": [
    {
     "name": "stdout",
     "output_type": "stream",
     "text": [
      "0.525 0.06270677794321385 0.9814841113008385 0.7915344237493472 0.9106145251396648\n"
     ]
    }
   ],
   "source": [
    "p0 = len(t_B[ t_B < t_hat]) / B\n",
    "\n",
    "z0 = norm.ppf(p0)  # (inverse of cum. distr. func.)\n",
    "\n",
    "alpha_BC = norm.cdf(2*z0+1.96)\n",
    "\n",
    "per_low = 100*(1-alpha_BC)/2\n",
    "per_up = 100*alpha_BC + per_low\n",
    "t_low = np.percentile(t_B,per_low )\n",
    "t_up = np.percentile(t_B,per_up)\n",
    "\n",
    "CI_BC = [t_low,t_up]\n",
    "\n",
    "print(p0,z0,alpha_BC,t_low,t_up)"
   ]
  },
  {
   "cell_type": "code",
   "execution_count": 134,
   "id": "576aa92d",
   "metadata": {
    "ExecuteTime": {
     "end_time": "2021-10-21T06:51:02.973076Z",
     "start_time": "2021-10-21T06:51:02.969559Z"
    }
   },
   "outputs": [
    {
     "data": {
      "text/plain": [
       "(0.9257944349580771, 99.07420556504192)"
      ]
     },
     "execution_count": 134,
     "metadata": {},
     "output_type": "execute_result"
    }
   ],
   "source": [
    "per_low,per_up"
   ]
  },
  {
   "cell_type": "code",
   "execution_count": 135,
   "id": "0064d8af",
   "metadata": {
    "ExecuteTime": {
     "end_time": "2021-10-21T06:53:04.467294Z",
     "start_time": "2021-10-21T06:53:04.355193Z"
    }
   },
   "outputs": [
    {
     "data": {
      "image/png": "[encoded data removed]",
      "text/plain": [
       "<Figure size 432x288 with 1 Axes>"
      ]
     },
     "metadata": {
      "image/png": {
       "height": 294,
       "width": 350
      }
     },
     "output_type": "display_data"
    }
   ],
   "source": [
    "plot_CI(t_hat,t_B,CI_BC,title='BC')"
   ]
  },
  {
   "cell_type": "code",
   "execution_count": 149,
   "id": "21eb1870",
   "metadata": {},
   "outputs": [
    {
     "data": {
      "text/html": [
       "<div>\n",
       "<style scoped>\n",
       "    .dataframe tbody tr th:only-of-type {\n",
       "        vertical-align: middle;\n",
       "    }\n",
       "\n",
       "    .dataframe tbody tr th {\n",
       "        vertical-align: top;\n",
       "    }\n",
       "\n",
       "    .dataframe thead th {\n",
       "        text-align: right;\n",
       "    }\n",
       "</style>\n",
       "<table border=\"1\" class=\"dataframe\">\n",
       "  <thead>\n",
       "    <tr style=\"text-align: right;\">\n",
       "      <th></th>\n",
       "      <th>Pclass</th>\n",
       "      <th>Age</th>\n",
       "      <th>Sex</th>\n",
       "      <th>SibSp</th>\n",
       "    </tr>\n",
       "  </thead>\n",
       "  <tbody>\n",
       "    <tr>\n",
       "      <th>463</th>\n",
       "      <td>2</td>\n",
       "      <td>48.0</td>\n",
       "      <td>0</td>\n",
       "      <td>0</td>\n",
       "    </tr>\n",
       "    <tr>\n",
       "      <th>240</th>\n",
       "      <td>3</td>\n",
       "      <td>28.0</td>\n",
       "      <td>1</td>\n",
       "      <td>1</td>\n",
       "    </tr>\n",
       "  </tbody>\n",
       "</table>\n",
       "</div>"
      ],
      "text/plain": [
       "     Pclass   Age Sex  SibSp\n",
       "463       2  48.0   0      0\n",
       "240       3  28.0   1      1"
      ]
     },
     "execution_count": 149,
     "metadata": {},
     "output_type": "execute_result"
    }
   ],
   "source": [
    "X_JR = X_test.sample(2).copy()\n",
    "X_JR.head()"
   ]
  },
  {
   "cell_type": "code",
   "execution_count": 151,
   "id": "a9835184",
   "metadata": {},
   "outputs": [
    {
     "data": {
      "text/html": [
       "<div>\n",
       "<style scoped>\n",
       "    .dataframe tbody tr th:only-of-type {\n",
       "        vertical-align: middle;\n",
       "    }\n",
       "\n",
       "    .dataframe tbody tr th {\n",
       "        vertical-align: top;\n",
       "    }\n",
       "\n",
       "    .dataframe thead th {\n",
       "        text-align: right;\n",
       "    }\n",
       "</style>\n",
       "<table border=\"1\" class=\"dataframe\">\n",
       "  <thead>\n",
       "    <tr style=\"text-align: right;\">\n",
       "      <th></th>\n",
       "      <th>Pclass</th>\n",
       "      <th>Age</th>\n",
       "      <th>Sex</th>\n",
       "      <th>SibSp</th>\n",
       "    </tr>\n",
       "  </thead>\n",
       "  <tbody>\n",
       "    <tr>\n",
       "      <th>463</th>\n",
       "      <td>3</td>\n",
       "      <td>19</td>\n",
       "      <td>0</td>\n",
       "      <td>0</td>\n",
       "    </tr>\n",
       "    <tr>\n",
       "      <th>240</th>\n",
       "      <td>1</td>\n",
       "      <td>17</td>\n",
       "      <td>1</td>\n",
       "      <td>1</td>\n",
       "    </tr>\n",
       "  </tbody>\n",
       "</table>\n",
       "</div>"
      ],
      "text/plain": [
       "     Pclass  Age  Sex  SibSp\n",
       "463       3   19    0      0\n",
       "240       1   17    1      1"
      ]
     },
     "execution_count": 151,
     "metadata": {},
     "output_type": "execute_result"
    }
   ],
   "source": [
    "X_JR['Pclass'] = [3,1]\n",
    "X_JR['Age']    =  [19,17]\n",
    "X_JR['Sex']    = [0,1]\n",
    "X_JR['SibSp']  = [0,1]\n",
    "X_JR.head()"
   ]
  },
  {
   "cell_type": "code",
   "execution_count": 152,
   "id": "91ee045a",
   "metadata": {
    "scrolled": true
   },
   "outputs": [
    {
     "data": {
      "text/plain": [
       "array([0.10714286, 1.        ])"
      ]
     },
     "execution_count": 152,
     "metadata": {},
     "output_type": "execute_result"
    }
   ],
   "source": [
    "model.predict_proba(X_JR)[:,1]"
   ]
  },
  {
   "cell_type": "code",
   "execution_count": null,
   "id": "055c3daf",
   "metadata": {},
   "outputs": [],
   "source": []
  }
 ],
 "metadata": {
  "kernelspec": {
   "display_name": "Python 3",
   "language": "python",
   "name": "python3"
  },
  "language_info": {
   "codemirror_mode": {
    "name": "ipython",
    "version": 3
   },
   "file_extension": ".py",
   "mimetype": "text/x-python",
   "name": "python",
   "nbconvert_exporter": "python",
   "pygments_lexer": "ipython3",
   "version": "3.7.10"
  },
  "toc": {
   "base_numbering": 1,
   "nav_menu": {},
   "number_sections": true,
   "sideBar": true,
   "skip_h1_title": false,
   "title_cell": "Table of Contents",
   "title_sidebar": "Contents",
   "toc_cell": false,
   "toc_position": {},
   "toc_section_display": true,
   "toc_window_display": true
  }
 },
 "nbformat": 4,
 "nbformat_minor": 5
}
